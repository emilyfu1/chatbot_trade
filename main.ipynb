{
 "cells": [
  {
   "cell_type": "code",
   "execution_count": 1,
   "metadata": {},
   "outputs": [],
   "source": [
    "import openai\n",
    "import pandas as pd\n",
    "from dotenv import dotenv_values, find_dotenv\n",
    "import os.path as path"
   ]
  },
  {
   "cell_type": "code",
   "execution_count": 4,
   "metadata": {},
   "outputs": [],
   "source": [
    "# import my HS6 codes\n",
    "hs6_info = pd.read_csv('data/hs6codes.csv')[['hs4', 'hs6', 'desc']]\n"
   ]
  },
  {
   "cell_type": "code",
   "execution_count": 5,
   "metadata": {},
   "outputs": [
    {
     "data": {
      "text/html": [
       "<div>\n",
       "<style scoped>\n",
       "    .dataframe tbody tr th:only-of-type {\n",
       "        vertical-align: middle;\n",
       "    }\n",
       "\n",
       "    .dataframe tbody tr th {\n",
       "        vertical-align: top;\n",
       "    }\n",
       "\n",
       "    .dataframe thead th {\n",
       "        text-align: right;\n",
       "    }\n",
       "</style>\n",
       "<table border=\"1\" class=\"dataframe\">\n",
       "  <thead>\n",
       "    <tr style=\"text-align: right;\">\n",
       "      <th></th>\n",
       "      <th>hs4</th>\n",
       "      <th>hs6</th>\n",
       "      <th>desc</th>\n",
       "    </tr>\n",
       "  </thead>\n",
       "  <tbody>\n",
       "    <tr>\n",
       "      <th>0</th>\n",
       "      <td>6101</td>\n",
       "      <td>610120</td>\n",
       "      <td>Coats; men's or boys' overcoats, car-coats, ca...</td>\n",
       "    </tr>\n",
       "    <tr>\n",
       "      <th>1</th>\n",
       "      <td>6101</td>\n",
       "      <td>610130</td>\n",
       "      <td>Coats; men's or boys' overcoats, car-coats, ca...</td>\n",
       "    </tr>\n",
       "    <tr>\n",
       "      <th>2</th>\n",
       "      <td>6101</td>\n",
       "      <td>610190</td>\n",
       "      <td>Coats; men's or boys' overcoats, car-coats, ca...</td>\n",
       "    </tr>\n",
       "    <tr>\n",
       "      <th>3</th>\n",
       "      <td>6102</td>\n",
       "      <td>610210</td>\n",
       "      <td>Coats; women's or girls' overcoats, car-coats,...</td>\n",
       "    </tr>\n",
       "    <tr>\n",
       "      <th>4</th>\n",
       "      <td>6102</td>\n",
       "      <td>610220</td>\n",
       "      <td>Coats; women's or girls' overcoats, car-coats,...</td>\n",
       "    </tr>\n",
       "    <tr>\n",
       "      <th>...</th>\n",
       "      <td>...</td>\n",
       "      <td>...</td>\n",
       "      <td>...</td>\n",
       "    </tr>\n",
       "    <tr>\n",
       "      <th>478</th>\n",
       "      <td>8547</td>\n",
       "      <td>854710</td>\n",
       "      <td>Insulating fittings; of ceramics, for electric...</td>\n",
       "    </tr>\n",
       "    <tr>\n",
       "      <th>479</th>\n",
       "      <td>8547</td>\n",
       "      <td>854720</td>\n",
       "      <td>Insulating fittings; of plastics, for electric...</td>\n",
       "    </tr>\n",
       "    <tr>\n",
       "      <th>480</th>\n",
       "      <td>8547</td>\n",
       "      <td>854790</td>\n",
       "      <td>Insulating fittings; (other than of ceramics o...</td>\n",
       "    </tr>\n",
       "    <tr>\n",
       "      <th>481</th>\n",
       "      <td>8548</td>\n",
       "      <td>854810</td>\n",
       "      <td>Waste and scrap of primary cells, primary batt...</td>\n",
       "    </tr>\n",
       "    <tr>\n",
       "      <th>482</th>\n",
       "      <td>8548</td>\n",
       "      <td>854890</td>\n",
       "      <td>Electrical parts of machinery or apparatus; n....</td>\n",
       "    </tr>\n",
       "  </tbody>\n",
       "</table>\n",
       "<p>483 rows × 3 columns</p>\n",
       "</div>"
      ],
      "text/plain": [
       "      hs4     hs6                                               desc\n",
       "0    6101  610120  Coats; men's or boys' overcoats, car-coats, ca...\n",
       "1    6101  610130  Coats; men's or boys' overcoats, car-coats, ca...\n",
       "2    6101  610190  Coats; men's or boys' overcoats, car-coats, ca...\n",
       "3    6102  610210  Coats; women's or girls' overcoats, car-coats,...\n",
       "4    6102  610220  Coats; women's or girls' overcoats, car-coats,...\n",
       "..    ...     ...                                                ...\n",
       "478  8547  854710  Insulating fittings; of ceramics, for electric...\n",
       "479  8547  854720  Insulating fittings; of plastics, for electric...\n",
       "480  8547  854790  Insulating fittings; (other than of ceramics o...\n",
       "481  8548  854810  Waste and scrap of primary cells, primary batt...\n",
       "482  8548  854890  Electrical parts of machinery or apparatus; n....\n",
       "\n",
       "[483 rows x 3 columns]"
      ]
     },
     "execution_count": 5,
     "metadata": {},
     "output_type": "execute_result"
    }
   ],
   "source": [
    "hs6_info"
   ]
  },
  {
   "cell_type": "code",
   "execution_count": 2,
   "metadata": {},
   "outputs": [],
   "source": [
    "# set key parameter\n",
    "\n",
    "# this looks for your configuration file and then reads it as a dictionary\n",
    "config = dotenv_values(find_dotenv())\n",
    "key = config[\"KEY\"]\n",
    "openai.api_key = key"
   ]
  },
  {
   "cell_type": "code",
   "execution_count": 3,
   "metadata": {},
   "outputs": [],
   "source": [
    "def get_completion(prompt, model=\"gpt-3.5-turbo\"):\n",
    "    messages = [{\"role\": \"user\", \"content\": prompt}]\n",
    "\n",
    "    response = openai.ChatCompletion.create(model=model, messages=messages,temperature=0)\n",
    "    print(response)\n",
    "    return response.choices[0].message[\"content\"]"
   ]
  },
  {
   "cell_type": "code",
   "execution_count": null,
   "metadata": {},
   "outputs": [],
   "source": [
    "query = \"What is 2+2?\"\n",
    "\n",
    "get_completion(query)"
   ]
  }
 ],
 "metadata": {
  "kernelspec": {
   "display_name": "myenv",
   "language": "python",
   "name": "python3"
  },
  "language_info": {
   "codemirror_mode": {
    "name": "ipython",
    "version": 3
   },
   "file_extension": ".py",
   "mimetype": "text/x-python",
   "name": "python",
   "nbconvert_exporter": "python",
   "pygments_lexer": "ipython3",
   "version": "3.11.3"
  }
 },
 "nbformat": 4,
 "nbformat_minor": 2
}
