{
 "cells": [
  {
   "cell_type": "code",
   "execution_count": 4,
   "metadata": {},
   "outputs": [],
   "source": [
    "import pandas as pd\n",
    "import getresponse\n",
    "import importlib\n",
    "importlib.reload(getresponse)\n",
    "from getresponse import getresponse"
   ]
  },
  {
   "cell_type": "code",
   "execution_count": 5,
   "metadata": {},
   "outputs": [
    {
     "data": {
      "text/plain": [
       "'3 + 3 equals 6.'"
      ]
     },
     "execution_count": 5,
     "metadata": {},
     "output_type": "execute_result"
    }
   ],
   "source": [
    "getresponse(\"What is 3+3?\")"
   ]
  },
  {
   "cell_type": "code",
   "execution_count": 6,
   "metadata": {},
   "outputs": [
    {
     "data": {
      "text/plain": [
       "'Harmonized System codes 61 and 62 refer to different types of clothing and accessories:\\n\\n- Code 61: Articles of apparel and clothing accessories, knitted or crocheted. This includes items such as sweaters, cardigans, t-shirts, pants, skirts, socks, gloves, hats, scarves, and similar knitted or crocheted garments.\\n\\n- Code 62: Articles of apparel and clothing accessories, not knitted or crocheted. This includes items such as shirts, blouses, jackets, coats, dresses, suits, trousers, shorts, underwear, bras, belts, neckties, scarves, and similar garments made from fabrics other than knitted or crocheted materials.'"
      ]
     },
     "execution_count": 6,
     "metadata": {},
     "output_type": "execute_result"
    }
   ],
   "source": [
    "getresponse(\"What kind of products fall under Harmonized System codes 61 and 62?\")"
   ]
  }
 ],
 "metadata": {
  "kernelspec": {
   "display_name": "myenv",
   "language": "python",
   "name": "python3"
  },
  "language_info": {
   "codemirror_mode": {
    "name": "ipython",
    "version": 3
   },
   "file_extension": ".py",
   "mimetype": "text/x-python",
   "name": "python",
   "nbconvert_exporter": "python",
   "pygments_lexer": "ipython3",
   "version": "3.11.3"
  }
 },
 "nbformat": 4,
 "nbformat_minor": 2
}
