{
 "cells": [
  {
   "cell_type": "code",
   "execution_count": 1,
   "metadata": {},
   "outputs": [],
   "source": [
    "import pandas as pd\n",
    "import getresponse\n",
    "import importlib\n",
    "importlib.reload(getresponse)\n",
    "from getresponse import getresponse"
   ]
  },
  {
   "cell_type": "code",
   "execution_count": 5,
   "metadata": {},
   "outputs": [
    {
     "data": {
      "text/plain": [
       "'3 + 3 equals 6.'"
      ]
     },
     "execution_count": 5,
     "metadata": {},
     "output_type": "execute_result"
    }
   ],
   "source": [
    "getresponse(\"What is 3+3?\")"
   ]
  },
  {
   "cell_type": "code",
   "execution_count": 6,
   "metadata": {},
   "outputs": [
    {
     "data": {
      "text/plain": [
       "'Harmonized System codes 61 and 62 refer to different types of clothing and accessories:\\n\\n- Code 61: Articles of apparel and clothing accessories, knitted or crocheted. This includes items such as sweaters, cardigans, t-shirts, pants, skirts, socks, gloves, hats, scarves, and similar knitted or crocheted garments.\\n\\n- Code 62: Articles of apparel and clothing accessories, not knitted or crocheted. This includes items such as shirts, blouses, jackets, coats, dresses, suits, trousers, shorts, underwear, bras, belts, neckties, scarves, and similar garments made from fabrics other than knitted or crocheted materials.'"
      ]
     },
     "execution_count": 6,
     "metadata": {},
     "output_type": "execute_result"
    }
   ],
   "source": [
    "getresponse(\"What kind of products fall under Harmonized System codes 61 and 62?\")"
   ]
  },
  {
   "cell_type": "code",
   "execution_count": 3,
   "metadata": {},
   "outputs": [
    {
     "data": {
      "text/plain": [
       "'To determine the most likely classification of the products under SITC rev. 3 code 7169, we need to consider the description of products under this code.\\n\\nSITC rev. 3 code 7169 represents \"Other parts and accessories of vehicles and bicycles (including wheel rims and spokes)\". \\n\\nBased on this description, the most likely classification of the products under SITC rev. 3 code 7169 would be \"differentiated products\". This is because the code includes various parts and accessories of vehicles and bicycles, which are likely to have differentiating features and characteristics.\\n\\nHowever, without more specific information about the products included in this code, it is difficult to determine the exact classification with certainty.'"
      ]
     },
     "execution_count": 3,
     "metadata": {},
     "output_type": "execute_result"
    }
   ],
   "source": [
    "getresponse(\"James Rauch classifies SITC Rev. 2 commodities into organized exchange, reference priced, and differentiated products. If the classification is used with SITC rev. 3, there will be 49 4-digit commodities not classified. Determine the most likely classification of the products under SITC rev. 3 code 7169, based on the description of products under this code.\")"
   ]
  }
 ],
 "metadata": {
  "kernelspec": {
   "display_name": "myenv",
   "language": "python",
   "name": "python3"
  },
  "language_info": {
   "codemirror_mode": {
    "name": "ipython",
    "version": 3
   },
   "file_extension": ".py",
   "mimetype": "text/x-python",
   "name": "python",
   "nbconvert_exporter": "python",
   "pygments_lexer": "ipython3",
   "version": "3.11.3"
  }
 },
 "nbformat": 4,
 "nbformat_minor": 2
}
