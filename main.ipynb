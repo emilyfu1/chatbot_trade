{
 "cells": [
  {
   "cell_type": "code",
   "execution_count": 1,
   "metadata": {},
   "outputs": [],
   "source": [
    "import pandas as pd\n",
    "import getresponse\n",
    "import importlib\n",
    "importlib.reload(getresponse)\n",
    "from getresponse import getresponse"
   ]
  },
  {
   "cell_type": "code",
   "execution_count": 5,
   "metadata": {},
   "outputs": [
    {
     "data": {
      "text/plain": [
       "'3 + 3 equals 6.'"
      ]
     },
     "execution_count": 5,
     "metadata": {},
     "output_type": "execute_result"
    }
   ],
   "source": [
    "getresponse(\"What is 3+3?\")"
   ]
  },
  {
   "cell_type": "code",
   "execution_count": 6,
   "metadata": {},
   "outputs": [
    {
     "data": {
      "text/plain": [
       "'Harmonized System codes 61 and 62 refer to different types of clothing and accessories:\\n\\n- Code 61: Articles of apparel and clothing accessories, knitted or crocheted. This includes items such as sweaters, cardigans, t-shirts, pants, skirts, socks, gloves, hats, scarves, and similar knitted or crocheted garments.\\n\\n- Code 62: Articles of apparel and clothing accessories, not knitted or crocheted. This includes items such as shirts, blouses, jackets, coats, dresses, suits, trousers, shorts, underwear, bras, belts, neckties, scarves, and similar garments made from fabrics other than knitted or crocheted materials.'"
      ]
     },
     "execution_count": 6,
     "metadata": {},
     "output_type": "execute_result"
    }
   ],
   "source": [
    "getresponse(\"What kind of products fall under Harmonized System codes 61 and 62?\")"
   ]
  },
  {
   "cell_type": "code",
   "execution_count": 19,
   "metadata": {},
   "outputs": [
    {
     "name": "stdout",
     "output_type": "stream",
     "text": [
      "1+1 is equal to 2.\n",
      "I'm sorry, but I don't have access to previous responses.\n"
     ]
    }
   ],
   "source": [
    "# dealing with previous prompts?\n",
    "print(getresponse(\"What is 1+1?\"))\n",
    "print(getresponse(\"What was the previous response?\"))"
   ]
  },
  {
   "cell_type": "markdown",
   "metadata": {},
   "source": [
    "prompt: \"James Rauch classifies SITC Rev. 2 commodities into organized exchange, reference priced, and differentiated products. Because ambiguities arose that were sometimes sufficiently important to affect the classification, both conservative and liberal classifications were made, with the former minimizing the number of three- and four-digit commodities that are classified as either organized exchange or reference priced and the latter maximizing those numbers. If the classification is used with SITC rev. 3, there will be 49 4-digit commodities not classified. Determine the most likely conservative and liberal classification of the SITC rev. 3 code (code), based on the description of what products lie within this code. State only the conservative classification followed by the liberal classification.\""
   ]
  },
  {
   "cell_type": "code",
   "execution_count": 23,
   "metadata": {},
   "outputs": [
    {
     "data": {
      "text/plain": [
       "'The most likely conservative classification of SITC rev. 3 code 7169 would be \"Not classified as organized exchange or reference priced.\" The most likely liberal classification would be \"Organized exchange or reference priced.\"'"
      ]
     },
     "execution_count": 23,
     "metadata": {},
     "output_type": "execute_result"
    }
   ],
   "source": [
    "getresponse(\"James Rauch classifies SITC Rev. 2 commodities into organized exchange, reference priced, and differentiated products. Because ambiguities arose that were sometimes sufficiently important to affect the classification, both conservative and liberal classifications were made, with the former minimizing the number of three- and four-digit commodities that are classified as either organized exchange or reference priced and the latter maximizing those numbers. If the classification is used with SITC rev. 3, there will be 49 4-digit commodities not classified. Determine the most likely conservative and liberal classification of the SITC rev. 3 code 7169, based on the description of what products lie within this code. State only the conservative classification followed by the liberal classification.\")"
   ]
  },
  {
   "cell_type": "code",
   "execution_count": 21,
   "metadata": {},
   "outputs": [
    {
     "data": {
      "text/plain": [
       "'SITC rev. 3 code 7723 corresponds to the category \"Parts and accessories of office machines and automatic data-processing machines\" in the SITC rev. 2 classification. \\n\\nThe most likely conservative classification of the products within SITC rev. 3 code 7723 would be to classify them as differentiated products. This means that they are products that are not traded on organized exchanges and do not have reference prices. \\n\\nThe most likely liberal classification of the products within SITC rev. 3 code 7723 would be to classify them as reference priced products. This means that they are products that have reference prices but are not traded on organized exchanges. \\n\\nIt is important to note that without further information or specific guidelines for classification, it is difficult to determine the exact conservative and liberal classifications for the products within SITC rev. 3 code 7723.'"
      ]
     },
     "execution_count": 21,
     "metadata": {},
     "output_type": "execute_result"
    }
   ],
   "source": [
    "getresponse(\"James Rauch classifies SITC rev. 2 commodities into organized exchange, reference priced, and differentiated products. Because ambiguities arose that were sometimes sufficiently important to affect the classification, both conservative and liberal classifications were made, with the former minimizing the number of three- and four-digit commodities that are classified as either organized exchange or reference priced and the latter maximizing those numbers. However, the conservative and liberal classifications of an SITC rev. 2 code may be the same. If the classification is used with SITC rev. 3, there will be 49 4-digit commodities not classified. State the products that belong to SITC rev. 3 code 7723. Determine the most likely conservative and liberal classifications of the products within SITC rev. 3 code 7723.\")"
   ]
  },
  {
   "cell_type": "code",
   "execution_count": 12,
   "metadata": {},
   "outputs": [
    {
     "data": {
      "text/plain": [
       "'The conservative classification of SITC rev. 3 code 7711 would classify it as a differentiated product. The liberal classification would classify it as an organized exchange product.'"
      ]
     },
     "execution_count": 12,
     "metadata": {},
     "output_type": "execute_result"
    }
   ],
   "source": [
    "getresponse(\"James Rauch classifies SITC Rev. 2 commodities into organized exchange, reference priced, and differentiated products. Because ambiguities arose that were sometimes sufficiently important to affect the classification, both conservative and liberal classifications were made, with the former minimizing the number of three- and four-digit commodities that are classified as either organized exchange or reference priced and the latter maximizing those numbers. If the classification is used with SITC rev. 3, there will be 49 4-digit commodities not classified. Determine the most likely conservative and liberal classification of the products within SITC rev. 3 code 7711. State only the conservative classification followed by the liberal classification.\")"
   ]
  },
  {
   "cell_type": "code",
   "execution_count": 13,
   "metadata": {},
   "outputs": [
    {
     "data": {
      "text/plain": [
       "'The most likely conservative classification of the products within SITC rev. 3 code 8138 would be to classify them as differentiated products. The most likely liberal classification would be to classify them as reference priced.'"
      ]
     },
     "execution_count": 13,
     "metadata": {},
     "output_type": "execute_result"
    }
   ],
   "source": [
    "getresponse(\"James Rauch classifies SITC Rev. 2 commodities into organized exchange, reference priced, and differentiated products. Because ambiguities arose that were sometimes sufficiently important to affect the classification, both conservative and liberal classifications were made, with the former minimizing the number of three- and four-digit commodities that are classified as either organized exchange or reference priced and the latter maximizing those numbers. If the classification is used with SITC rev. 3, there will be 49 4-digit commodities not classified. Determine the most likely conservative and liberal classification of the products within SITC rev. 3 code 8138. State only the conservative classification followed by the liberal classification.\")"
   ]
  },
  {
   "cell_type": "code",
   "execution_count": 14,
   "metadata": {},
   "outputs": [
    {
     "data": {
      "text/plain": [
       "'The most likely conservative classification of SITC rev. 3 code 8987 would be \"not classified\" and the most likely liberal classification would also be \"not classified\".'"
      ]
     },
     "execution_count": 14,
     "metadata": {},
     "output_type": "execute_result"
    }
   ],
   "source": [
    "getresponse(\"James Rauch classifies SITC Rev. 2 commodities into organized exchange, reference priced, and differentiated products. Because ambiguities arose that were sometimes sufficiently important to affect the classification, both conservative and liberal classifications were made, with the former minimizing the number of three- and four-digit commodities that are classified as either organized exchange or reference priced and the latter maximizing those numbers. If the classification is used with SITC rev. 3, there will be 49 4-digit commodities not classified. Determine the most likely conservative and liberal classification of the products within SITC rev. 3 code 8987. State only the conservative classification followed by the liberal classification.\")"
   ]
  }
 ],
 "metadata": {
  "kernelspec": {
   "display_name": "myenv",
   "language": "python",
   "name": "python3"
  },
  "language_info": {
   "codemirror_mode": {
    "name": "ipython",
    "version": 3
   },
   "file_extension": ".py",
   "mimetype": "text/x-python",
   "name": "python",
   "nbconvert_exporter": "python",
   "pygments_lexer": "ipython3",
   "version": "3.11.3"
  }
 },
 "nbformat": 4,
 "nbformat_minor": 2
}
